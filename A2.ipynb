{
 "cells": [
  {
   "cell_type": "markdown",
   "metadata": {},
   "source": [
    "# Task One"
   ]
  },
  {
   "cell_type": "code",
   "execution_count": 3,
   "metadata": {},
   "outputs": [
    {
     "name": "stdout",
     "output_type": "stream",
     "text": [
      "How many star? 5\n",
      "*****\n"
     ]
    }
   ],
   "source": [
    "a = int(input(\"How many star? \"))\n",
    "print(a*\"*\")"
   ]
  },
  {
   "cell_type": "markdown",
   "metadata": {},
   "source": [
    "# Task Two"
   ]
  },
  {
   "cell_type": "code",
   "execution_count": 5,
   "metadata": {},
   "outputs": [
    {
     "name": "stdout",
     "output_type": "stream",
     "text": [
      "Enter row num: 4\n",
      "Enter column num: 6\n",
      "******\n",
      "******\n",
      "******\n",
      "******\n"
     ]
    }
   ],
   "source": [
    "row = int(input(\"Enter row num: \"))\n",
    "col = int(input(\"Enter column num: \"))\n",
    "for i in range(0,row):\n",
    "    print(col*\"*\")"
   ]
  },
  {
   "cell_type": "markdown",
   "metadata": {},
   "source": [
    "# Task Three"
   ]
  },
  {
   "cell_type": "code",
   "execution_count": 19,
   "metadata": {},
   "outputs": [
    {
     "name": "stdout",
     "output_type": "stream",
     "text": [
      "How many star? 4\n",
      "*\n",
      "**\n",
      "***\n",
      "****\n"
     ]
    }
   ],
   "source": [
    "a = int(input(\"How many star? \"))\n",
    "for i in range(1,a+1,1):\n",
    "    print(i*\"*\")"
   ]
  },
  {
   "cell_type": "markdown",
   "metadata": {},
   "source": [
    "# Task Four"
   ]
  },
  {
   "cell_type": "code",
   "execution_count": 9,
   "metadata": {},
   "outputs": [
    {
     "name": "stdout",
     "output_type": "stream",
     "text": [
      "Enter number4\n",
      "      * \n",
      "    * * \n",
      "  * * * \n",
      "* * * * \n"
     ]
    }
   ],
   "source": [
    "def pypart2(n): \n",
    "      \n",
    "    # number of spaces \n",
    "    k = 2*n - 2\n",
    "  \n",
    "    # outer loop to handle number of rows \n",
    "    for i in range(0, n): \n",
    "      \n",
    "        # inner loop to handle number spaces \n",
    "        # values changing acc. to requirement \n",
    "        for j in range(0, k): \n",
    "            print(end=\" \") \n",
    "      \n",
    "        # decrementing k after each loop \n",
    "        k = k - 2\n",
    "      \n",
    "        # inner loop to handle number of columns \n",
    "        # values changing acc. to outer loop \n",
    "        for j in range(0, i+1): \n",
    "          \n",
    "            # printing stars \n",
    "            print(\"* \", end=\"\") \n",
    "      \n",
    "        # ending line after each row \n",
    "        print(\"\\r\") \n",
    "  \n",
    "# Driver Code \n",
    "n = int(input(\"Enter number\"))\n",
    "pypart2(n) \n",
    "\n",
    "    "
   ]
  },
  {
   "cell_type": "markdown",
   "metadata": {},
   "source": [
    "# Task Five"
   ]
  },
  {
   "cell_type": "code",
   "execution_count": 2,
   "metadata": {},
   "outputs": [
    {
     "name": "stdout",
     "output_type": "stream",
     "text": [
      "Enter: 4\n",
      "      * \n",
      "     * * \n",
      "    * * * \n",
      "   * * * * \n"
     ]
    }
   ],
   "source": [
    "def triangle(n): \n",
    "      \n",
    "    # number of spaces \n",
    "    k = 2*n - 2\n",
    "  \n",
    "    # outer loop to handle number of rows \n",
    "    for i in range(0, n): \n",
    "      \n",
    "        # inner loop to handle number spaces \n",
    "        # values changing acc. to requirement \n",
    "        for j in range(0, k): \n",
    "            print(end=\" \") \n",
    "      \n",
    "        # decrementing k after each loop \n",
    "        k = k - 1\n",
    "      \n",
    "        # inner loop to handle number of columns \n",
    "        # values changing acc. to outer loop \n",
    "        for j in range(0, i+1): \n",
    "          \n",
    "            # printing stars \n",
    "            print( \"* \", end=\"\") \n",
    "      \n",
    "        # ending line after each row \n",
    "        print(\"\\r\") \n",
    "  \n",
    "# Driver Code \n",
    "n = int(input(\"Enter: \"))\n",
    "triangle(n) "
   ]
  },
  {
   "cell_type": "markdown",
   "metadata": {},
   "source": [
    "# Triangle - Isosceles"
   ]
  },
  {
   "cell_type": "code",
   "execution_count": 6,
   "metadata": {},
   "outputs": [
    {
     "name": "stdout",
     "output_type": "stream",
     "text": [
      "Enter Row: 5\n",
      "Enter Column: 10\n",
      "   *      \n",
      "  * *     \n",
      " *   *    \n",
      "*     *   \n",
      "**********\n"
     ]
    }
   ],
   "source": [
    "r=int(input(\"Enter Row: \"))\n",
    "c=int(input(\"Enter Column: \"))\n",
    "\n",
    "for row in range(1,r+1):\n",
    "    for col in range(1,c+1):\n",
    "        if row==r or row+col==5 or col-row==3:\n",
    "            print(\"*\", end=\"\")\n",
    "        else:\n",
    "            print(end=\" \")\n",
    "    print()\n",
    "        "
   ]
  },
  {
   "cell_type": "markdown",
   "metadata": {},
   "source": [
    "# reverse"
   ]
  },
  {
   "cell_type": "code",
   "execution_count": 8,
   "metadata": {},
   "outputs": [
    {
     "name": "stdout",
     "output_type": "stream",
     "text": [
      "*****\n",
      "****\n",
      "***\n",
      "**\n"
     ]
    }
   ],
   "source": [
    "n=5\n",
    "for i in range(n,0,-1):\n",
    "    print(i*\"*\")"
   ]
  },
  {
   "cell_type": "markdown",
   "metadata": {},
   "source": [
    "# Reverse"
   ]
  },
  {
   "cell_type": "code",
   "execution_count": 15,
   "metadata": {},
   "outputs": [
    {
     "name": "stdout",
     "output_type": "stream",
     "text": [
      "Enter num: 4\n",
      "      *****\n",
      "    ****\n",
      "  ***\n",
      "**\n"
     ]
    }
   ],
   "source": [
    "def pyramim(n):\n",
    "    k = 2*n-2\n",
    "    \n",
    "    for i in range(n,0,-1):\n",
    "        for j in range(k,0,-1):\n",
    "            print(end=\" \")\n",
    "        k=k-2\n",
    "        \n",
    "        for j in range(i+1,0,-1):\n",
    "            print(\"*\", end=\"\")\n",
    "        print(\"\\r\")\n",
    "n=int(input(\"Enter num: \"))\n",
    "pyramim(n)"
   ]
  },
  {
   "cell_type": "code",
   "execution_count": null,
   "metadata": {},
   "outputs": [],
   "source": []
  }
 ],
 "metadata": {
  "kernelspec": {
   "display_name": "Python 3",
   "language": "python",
   "name": "python3"
  },
  "language_info": {
   "codemirror_mode": {
    "name": "ipython",
    "version": 3
   },
   "file_extension": ".py",
   "mimetype": "text/x-python",
   "name": "python",
   "nbconvert_exporter": "python",
   "pygments_lexer": "ipython3",
   "version": "3.7.1"
  }
 },
 "nbformat": 4,
 "nbformat_minor": 2
}
